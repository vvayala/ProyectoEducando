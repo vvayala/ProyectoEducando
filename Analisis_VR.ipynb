{
 "cells": [
  {
   "cell_type": "code",
   "execution_count": null,
   "metadata": {},
   "outputs": [],
   "source": [
    "import pandas as pd\n",
    "import matplotlib.pyplot as plt\n",
    "\n",
    "# Obtener el archivo\n",
    "df = pd.read_csv('/content/Virtual_Reality_in_Education_Impact.csv')\n",
    "\n",
    "# Crear la figura y los subplots\n",
    "fig, axs = plt.subplots(2, 2, figsize=(15, 15))\n",
    "\n",
    "# 1. Distribución de género por nivel de interés en continuar el aprendizaje basado en VR\n",
    "df1 = df.groupby(['Interest_in_Continuing_VR_Based_Learning', 'Gender']).size().unstack(fill_value=0)\n",
    "df1.plot(kind='bar', stacked=True, ax=axs[0, 0], colormap='viridis')\n",
    "axs[0, 0].set_title('Interés en Continuar Aprendizaje Basado en VR por Género')\n",
    "axs[0, 0].set_xlabel('Interés en VR')\n",
    "axs[0, 0].set_ylabel('Cantidad')\n",
    "\n",
    "# 2. Horas de uso de VR por semana distribuidas por región\n",
    "df2 = df.groupby(['Region', 'Hours_of_VR_Usage_Per_Week']).size().unstack(fill_value=0)\n",
    "df2.plot(kind='bar', stacked=True, ax=axs[0, 1], colormap='plasma')\n",
    "axs[0, 1].set_title('Horas de Uso de VR por Semana por Región')\n",
    "axs[0, 1].set_xlabel('Región')\n",
    "axs[0, 1].set_ylabel('Cantidad')\n",
    "\n",
    "# 3. Nivel de estrés con el uso de VR según el grado educativo\n",
    "df3 = df.groupby(['Grade_Level', 'Stress_Level_with_VR_Usage']).size().unstack(fill_value=0)\n",
    "df3.plot(kind='bar', stacked=True, ax=axs[1, 0], colormap='inferno')\n",
    "axs[1, 0].set_title('Nivel de Estrés con el Uso de VR por Grado Educativo')\n",
    "axs[1, 0].set_xlabel('Grado Educativo')\n",
    "axs[1, 0].set_ylabel('Cantidad')\n",
    "\n",
    "# 4. Impacto en la creatividad según el nivel de compromiso\n",
    "df4 = df.groupby(['Engagement_Level', 'Impact_on_Creativity']).size().unstack(fill_value=0)\n",
    "df4.plot(kind='bar', stacked=True, ax=axs[1, 1], colormap='cividis')\n",
    "axs[1, 1].set_title('Impacto en la Creatividad por Nivel de Compromiso')\n",
    "axs[1, 1].set_xlabel('Nivel de Compromiso')\n",
    "axs[1, 1].set_ylabel('Cantidad')\n",
    "\n",
    "# Ajustar los espacios y mostrar el plot\n",
    "plt.tight_layout()\n",
    "plt.show()"
   ]
  }
 ],
 "metadata": {
  "language_info": {
   "name": "python"
  }
 },
 "nbformat": 4,
 "nbformat_minor": 2
}
