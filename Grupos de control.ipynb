{
 "cells": [
  {
   "cell_type": "code",
   "execution_count": 1,
   "id": "9181747f-420e-4ab5-aee3-a89bc6ebc2ad",
   "metadata": {},
   "outputs": [
    {
     "name": "stdout",
     "output_type": "stream",
     "text": [
      "\n",
      "*** Grupo A: Enseñanza Tradicional ***\n",
      "\n",
      "Enseñanza Tradicional: Matemáticas\n",
      "Lección: Aprende sobre la suma. 3 + 2 = 5\n",
      "Fin de la lección.\n",
      "\n",
      "Enseñanza Tradicional: Lenguaje\n",
      "Lección: Aprende sobre sustantivos. Ejemplo: mesa, perro, mamá.\n",
      "Fin de la lección.\n",
      "\n",
      "Enseñanza Tradicional: Ciencias\n",
      "Lección: Aprende sobre los animales. Ejemplo: El tigre es salvaje.\n",
      "Fin de la lección.\n",
      "\n",
      "Enseñanza Tradicional: Sociales\n",
      "Lección: Aprende sobre la comunidad. Ejemplo: La escuela es un lugar importante.\n",
      "Fin de la lección.\n",
      "\n",
      "*** Resultados para el Grupo A ***\n",
      "Área: Matemáticas, Tiempo: 5.00 segundos, Puntaje: 0/1\n",
      "Área: Lenguaje, Tiempo: 5.00 segundos, Puntaje: 0/1\n",
      "Área: Ciencias, Tiempo: 5.00 segundos, Puntaje: 0/1\n",
      "Área: Sociales, Tiempo: 5.00 segundos, Puntaje: 0/1\n",
      "Total Puntaje para el Grupo A: 0/4\n",
      "Tiempo total para el Grupo A: 20.00 segundos\n",
      "\n",
      "\n",
      "*** Grupo B: Enseñanza Interactiva ***\n",
      "\n",
      "Enseñanza con desarrollo de Software: Matemáticas\n",
      "Opciones: \n",
      "a) 5\n",
      "b) 7\n",
      "c) 9\n"
     ]
    },
    {
     "name": "stdin",
     "output_type": "stream",
     "text": [
      "¿Cuánto es 6 + 3? >  a\n"
     ]
    },
    {
     "name": "stdout",
     "output_type": "stream",
     "text": [
      "Respuesta incorrecta.\n",
      "Respuesta ingresada: 'a'\n",
      "Fin de la actividad.\n",
      "\n",
      "Enseñanza con desarrollo de Software: Lenguaje\n",
      "Opciones: \n",
      "a) correr\n",
      "b) perro\n"
     ]
    },
    {
     "name": "stdin",
     "output_type": "stream",
     "text": [
      "¿Cuál de estas palabras es un sustantivo? a) correr b) perro >  b\n"
     ]
    },
    {
     "name": "stdout",
     "output_type": "stream",
     "text": [
      "¡Respuesta correcta!\n",
      "Respuesta ingresada: 'b'\n",
      "Fin de la actividad.\n",
      "\n",
      "Enseñanza con desarrollo de Software: Ciencias\n",
      "Opciones: \n",
      "a) gato\n",
      "b) tigre\n"
     ]
    },
    {
     "name": "stdin",
     "output_type": "stream",
     "text": [
      "¿Cuál de estos es un animal salvaje? a) gato b) tigre >  b\n"
     ]
    },
    {
     "name": "stdout",
     "output_type": "stream",
     "text": [
      "¡Respuesta correcta!\n",
      "Respuesta ingresada: 'b'\n",
      "Fin de la actividad.\n",
      "\n",
      "Enseñanza con desarrollo de Software: Sociales\n",
      "Opciones: \n",
      "a) parque\n",
      "b) escuela\n"
     ]
    },
    {
     "name": "stdin",
     "output_type": "stream",
     "text": [
      "¿Cuál de estos es un lugar importante en la comunidad? a) parque b) escuela >  a\n"
     ]
    },
    {
     "name": "stdout",
     "output_type": "stream",
     "text": [
      "Respuesta incorrecta.\n",
      "Respuesta ingresada: 'a'\n",
      "Fin de la actividad.\n",
      "\n",
      "*** Resultados para el Grupo B ***\n",
      "Área: Matemáticas, Tiempo: 22.00 segundos, Puntaje: 0/1\n",
      "Área: Lenguaje, Tiempo: 9.00 segundos, Puntaje: 1/1\n",
      "Área: Ciencias, Tiempo: 5.60 segundos, Puntaje: 1/1\n",
      "Área: Sociales, Tiempo: 10.80 segundos, Puntaje: 0/1\n",
      "Total Puntaje para el Grupo B: 2/4\n",
      "Tiempo total para el Grupo B: 47.41 segundos\n",
      "\n"
     ]
    }
   ],
   "source": [
    "import time\n",
    "\n",
    "# Función para enseñanza tradicional\n",
    "def ensenanza_tradicional(area):\n",
    "    print(f\"\\nEnseñanza Tradicional: {area}\")\n",
    "    if area == \"Matemáticas\":\n",
    "        print(\"Lección: Aprende sobre la suma. 3 + 2 = 5\")\n",
    "    elif area == \"Lenguaje\":\n",
    "        print(\"Lección: Aprende sobre sustantivos. Ejemplo: mesa, perro, mamá.\")\n",
    "    elif area == \"Ciencias\":\n",
    "        print(\"Lección: Aprende sobre los animales. Ejemplo: El tigre es salvaje.\")\n",
    "    elif area == \"Sociales\":\n",
    "        print(\"Lección: Aprende sobre la comunidad. Ejemplo: La escuela es un lugar importante.\")\n",
    "    time.sleep(5)  # Simula lectura\n",
    "    print(\"Fin de la lección.\")\n",
    "    return 0  # No hay puntaje en el método tradicional\n",
    "\n",
    "# Función para enseñanza con desarrollo de Software\n",
    "def ensenanza_interactiva(area):\n",
    "    print(f\"\\nEnseñanza con desarrollo de Software: {area}\")\n",
    "    puntaje = 0\n",
    "    if area == \"Matemáticas\":\n",
    "        print(\"Opciones: \")\n",
    "        print(\"a) 5\")\n",
    "        print(\"b) 7\")\n",
    "        print(\"c) 9\")\n",
    "        respuesta = input(\"¿Cuánto es 6 + 3? > \").strip().lower()  # Usamos .strip() para eliminar espacios extra\n",
    "        if respuesta == \"c\":  # La opción correcta es \"c\"\n",
    "            puntaje = 1\n",
    "            print(\"¡Respuesta correcta!\")\n",
    "        else:\n",
    "            print(\"Respuesta incorrecta.\")\n",
    "    elif area == \"Lenguaje\":\n",
    "        print(\"Opciones: \")\n",
    "        print(\"a) correr\")\n",
    "        print(\"b) perro\")\n",
    "        respuesta = input(\"¿Cuál de estas palabras es un sustantivo? a) correr b) perro > \").strip().lower()  # Usamos .lower() para insensibilidad a mayúsculas\n",
    "        if respuesta == \"b\":  # La opción correcta es \"b\"\n",
    "            puntaje = 1\n",
    "            print(\"¡Respuesta correcta!\")\n",
    "        else:\n",
    "            print(\"Respuesta incorrecta.\")\n",
    "    elif area == \"Ciencias\":\n",
    "        print(\"Opciones: \")\n",
    "        print(\"a) gato\")\n",
    "        print(\"b) tigre\")\n",
    "        respuesta = input(\"¿Cuál de estos es un animal salvaje? a) gato b) tigre > \").strip().lower()\n",
    "        if respuesta == \"b\":  # La opción correcta es \"b\"\n",
    "            puntaje = 1\n",
    "            print(\"¡Respuesta correcta!\")\n",
    "        else:\n",
    "            print(\"Respuesta incorrecta.\")\n",
    "    elif area == \"Sociales\":\n",
    "        print(\"Opciones: \")\n",
    "        print(\"a) parque\")\n",
    "        print(\"b) escuela\")\n",
    "        respuesta = input(\"¿Cuál de estos es un lugar importante en la comunidad? a) parque b) escuela > \").strip().lower()\n",
    "        if respuesta == \"b\":  # La opción correcta es \"b\"\n",
    "            puntaje = 1\n",
    "            print(\"¡Respuesta correcta!\")\n",
    "        else:\n",
    "            print(\"Respuesta incorrecta.\")\n",
    "\n",
    "    print(f\"Respuesta ingresada: '{respuesta}'\")  # Para verificar la respuesta que se está comparando\n",
    "    print(\"Fin de la actividad.\")\n",
    "    return puntaje\n",
    "\n",
    "# Función principal para un grupo\n",
    "def ejecutar_grupo(metodo, areas):\n",
    "    tiempos = []\n",
    "    puntajes = []\n",
    "    for area in areas:\n",
    "        inicio = time.time()\n",
    "        if metodo == \"tradicional\":\n",
    "            puntajes.append(ensenanza_tradicional(area))  # Método tradicional no tiene puntajes\n",
    "        elif metodo == \"interactiva\":\n",
    "            puntajes.append(ensenanza_interactiva(area))\n",
    "        tiempos.append(time.time() - inicio)  # Calculando el tiempo por área\n",
    "    \n",
    "    total_puntaje = sum(puntajes)  # Sumar los puntajes de todas las áreas\n",
    "    tiempo_total = sum(tiempos)  # Sumar los tiempos de todas las áreas\n",
    "    return tiempos, puntajes, total_puntaje, tiempo_total\n",
    "\n",
    "# Mostrar resultados\n",
    "def mostrar_resultados(grupo, metodo, tiempos, puntajes, areas, total_puntaje, tiempo_total):\n",
    "    print(f\"\\n*** Resultados para el Grupo {grupo} ***\")\n",
    "    if metodo == \"tradicional\":\n",
    "        for i, area in enumerate(areas):\n",
    "            print(f\"Área: {area}, Tiempo: {tiempos[i]:.2f} segundos\")\n",
    "    else:\n",
    "        for i, area in enumerate(areas):\n",
    "            print(f\"Área: {area}, Tiempo: {tiempos[i]:.2f} segundos, Puntaje: {puntajes[i]}/1\")\n",
    "    print(f\"Total Puntaje para el Grupo {grupo}: {total_puntaje}/{len(areas)}\")\n",
    "    print(f\"Tiempo total para el Grupo {grupo}: {tiempo_total:.2f} segundos\\n\")\n",
    "\n",
    "# Ejecución del ejemplo con áreas\n",
    "areas = [\"Matemáticas\", \"Lenguaje\", \"Ciencias\", \"Sociales\"]\n",
    "\n",
    "# Grupo A: Enseñanza tradicional\n",
    "print(\"\\n*** Grupo A: Enseñanza Tradicional ***\")\n",
    "tiempos_a, puntajes_a, total_puntaje_a, tiempo_total_a = ejecutar_grupo(\"tradicional\", areas)\n",
    "mostrar_resultados(\"A\", \"Tradicional\", tiempos_a, puntajes_a, areas, total_puntaje_a, tiempo_total_a)\n",
    "\n",
    "# Grupo B: Enseñanza interactiva\n",
    "print(\"\\n*** Grupo B: Enseñanza Interactiva ***\")\n",
    "tiempos_b, puntajes_b, total_puntaje_b, tiempo_total_b = ejecutar_grupo(\"interactiva\", areas)\n",
    "mostrar_resultados(\"B\", \"Interactiva\", tiempos_b, puntajes_b, areas, total_puntaje_b, tiempo_total_b)\n"
   ]
  },
  {
   "cell_type": "code",
   "execution_count": null,
   "id": "7469957b-1229-4af1-8eb5-cf84fac384b2",
   "metadata": {},
   "outputs": [],
   "source": []
  }
 ],
 "metadata": {
  "kernelspec": {
   "display_name": "Python 3 (ipykernel)",
   "language": "python",
   "name": "python3"
  },
  "language_info": {
   "codemirror_mode": {
    "name": "ipython",
    "version": 3
   },
   "file_extension": ".py",
   "mimetype": "text/x-python",
   "name": "python",
   "nbconvert_exporter": "python",
   "pygments_lexer": "ipython3",
   "version": "3.12.4"
  }
 },
 "nbformat": 4,
 "nbformat_minor": 5
}
