{
 "cells": [
  {
   "cell_type": "code",
   "execution_count": null,
   "metadata": {
    "colab": {
     "base_uri": "https://localhost:8080/",
     "height": 498
    },
    "id": "furXF0zsbbDW",
    "outputId": "200dfbc4-6697-4986-e168-62ac527de0e3"
   },
   "outputs": [
    {
     "ename": "ModuleNotFoundError",
     "evalue": "No module named 'pandas'",
     "output_type": "error",
     "traceback": [
      "\u001b[1;31m---------------------------------------------------------------------------\u001b[0m",
      "\u001b[1;31mModuleNotFoundError\u001b[0m                       Traceback (most recent call last)",
      "Cell \u001b[1;32mIn[1], line 1\u001b[0m\n\u001b[1;32m----> 1\u001b[0m \u001b[38;5;28;01mimport\u001b[39;00m \u001b[38;5;21;01mpandas\u001b[39;00m \u001b[38;5;28;01mas\u001b[39;00m \u001b[38;5;21;01mpd\u001b[39;00m\n\u001b[0;32m      2\u001b[0m \u001b[38;5;28;01mimport\u001b[39;00m \u001b[38;5;21;01mmatplotlib\u001b[39;00m\u001b[38;5;21;01m.\u001b[39;00m\u001b[38;5;21;01mpyplot\u001b[39;00m \u001b[38;5;28;01mas\u001b[39;00m \u001b[38;5;21;01mplt\u001b[39;00m\n\u001b[0;32m      4\u001b[0m \u001b[38;5;66;03m# Obtener el archivo\u001b[39;00m\n",
      "\u001b[1;31mModuleNotFoundError\u001b[0m: No module named 'pandas'"
     ]
    }
   ],
   "source": [
    "import pandas as pd\n",
    "import matplotlib.pyplot as plt\n",
    "\n",
    "# Obtener el archivo\n",
    "df = pd.read_csv('/content/students_adaptability_level_online_education.csv')\n",
    "\n",
    "# Crear figura y subplots\n",
    "fig, axs = plt.subplots(3, 2, figsize=(15, 15))\n",
    "\n",
    "# Gráfico de barras de la distribución del grupo de edades\n",
    "df['Age'].value_counts().plot(kind='bar', ax=axs[0, 0], color='skyblue')\n",
    "axs[0, 0].set_title('Distribución de Edad')\n",
    "axs[0, 0].set_xlabel('Edad')\n",
    "axs[0, 0].set_ylabel('Cantidad')\n",
    "\n",
    "# Nivel de adaptabilidad por edades\n",
    "df1.plot(kind='bar', stacked=True, ax=axs[0, 1], colormap='viridis')\n",
    "axs[0, 1].set_title('Nivel de Adaptabilidad por Edades')\n",
    "axs[0, 1].set_xlabel('Nivel de Adaptabilidad')\n",
    "axs[0, 1].set_ylabel('Cantidad')\n",
    "\n",
    "# Nivel de adaptabilidad por nivel educativo\n",
    "df2.plot(kind='bar', stacked=True, ax=axs[1, 0], colormap='plasma')\n",
    "axs[1, 0].set_title('Nivel de Adaptabilidad por Nivel Educativo')\n",
    "axs[1, 0].set_xlabel('Nivel Educativo')\n",
    "axs[1, 0].set_ylabel('Cantidad')\n",
    "\n",
    "# Influencia de apagones en el nivel de adaptabilidad\n",
    "df3.plot(kind='bar', stacked=True, ax=axs[1, 1], colormap='inferno')\n",
    "axs[1, 1].set_title('Influencia de Apagones en el Nivel de Adaptabilidad')\n",
    "axs[1, 1].set_xlabel('Nivel de Adaptabilidad')\n",
    "axs[1, 1].set_ylabel('Cantidad')\n",
    "\n",
    "# Condición financiera relacionada con el tipo de internet usado\n",
    "df4.plot(kind='bar', stacked=True, ax=axs[2, 0], colormap='cividis')\n",
    "axs[2, 0].set_title('Condición Financiera vs Tipo de Internet')\n",
    "axs[2, 0].set_xlabel('Condición Financiera')\n",
    "axs[2, 0].set_ylabel('Cantidad')\n",
    "\n",
    "# Distribución de género por niveles de adaptabilidad\n",
    "df5.plot(kind='bar', stacked=True, ax=axs[2, 1], colormap='magma')\n",
    "axs[2, 1].set_title('Nivel de Adaptabilidad por Género')\n",
    "axs[2, 1].set_xlabel('Nivel de Adaptabilidad')\n",
    "axs[2, 1].set_ylabel('Cantidad')\n",
    "\n",
    "# Ajustar los espacios y mostrar el plot\n",
    "plt.tight_layout()\n",
    "plt.show()"
   ]
  }
 ],
 "metadata": {
  "colab": {
   "provenance": []
  },
  "kernelspec": {
   "display_name": "Python 3",
   "name": "python3"
  },
  "language_info": {
   "codemirror_mode": {
    "name": "ipython",
    "version": 3
   },
   "file_extension": ".py",
   "mimetype": "text/x-python",
   "name": "python",
   "nbconvert_exporter": "python",
   "pygments_lexer": "ipython3",
   "version": "3.11.9"
  }
 },
 "nbformat": 4,
 "nbformat_minor": 0
}
